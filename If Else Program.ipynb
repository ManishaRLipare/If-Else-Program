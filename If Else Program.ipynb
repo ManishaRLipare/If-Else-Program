{
 "cells": [
  {
   "cell_type": "markdown",
   "id": "1719ad1d",
   "metadata": {},
   "source": [
    "### To find maximum between 2 numbers"
   ]
  },
  {
   "cell_type": "code",
   "execution_count": 1,
   "id": "def9df13",
   "metadata": {},
   "outputs": [
    {
     "name": "stdout",
     "output_type": "stream",
     "text": [
      "Enter a number:20\n",
      "Enter a number:10\n",
      "20 is a maximum number than 10\n"
     ]
    }
   ],
   "source": [
    "a = int(input('Enter a number:'))\n",
    "b = int(input('Enter a number:'))\n",
    "if a>b:\n",
    "    print(a,'is a maximum number than',b)\n",
    "else:\n",
    "    print(b,'is a maximum number than',a)"
   ]
  },
  {
   "cell_type": "markdown",
   "id": "8209074c",
   "metadata": {},
   "source": [
    "### To find maximum between 3 numbers"
   ]
  },
  {
   "cell_type": "code",
   "execution_count": 9,
   "id": "4c68a12f",
   "metadata": {},
   "outputs": [
    {
     "name": "stdout",
     "output_type": "stream",
     "text": [
      "Enter a number:10\n",
      "Enter a number:20\n",
      "Enter a number:30\n",
      "30 is a maximum number than 10 and 20\n"
     ]
    }
   ],
   "source": [
    "n1 = int(input('Enter a number:'))\n",
    "n2 = int(input('Enter a number:'))\n",
    "n3 = int(input('Enter a number:'))\n",
    "\n",
    "\n",
    "if n1>n2 and n1>n3:\n",
    "    print(n1,'is a maximum number than',n2,'and',n3)\n",
    "elif n2>n1 and n2>n3:\n",
    "    print(n2,'is a maximum number than',n1,'and',n3)\n",
    "else:\n",
    "    print(n3,'is a maximum number than',n1,'and',n2)\n",
    "    \n",
    "    "
   ]
  },
  {
   "cell_type": "markdown",
   "id": "e065d617",
   "metadata": {},
   "source": [
    "### To check number is +ve, -ve or zero"
   ]
  },
  {
   "cell_type": "code",
   "execution_count": 14,
   "id": "ff594bfe",
   "metadata": {},
   "outputs": [
    {
     "name": "stdout",
     "output_type": "stream",
     "text": [
      "Enter a number:10\n",
      "The number is positive\n"
     ]
    }
   ],
   "source": [
    "n = int(input('Enter a number:'))\n",
    "if n==0:\n",
    "    print('The number is zero')\n",
    "elif n>0:\n",
    "    print('The number is positive')\n",
    "else:\n",
    "    print('The number is negative')\n",
    "    "
   ]
  },
  {
   "cell_type": "markdown",
   "id": "7e6dbbd9",
   "metadata": {},
   "source": [
    "### To check number is divisible by 5 or 7 or not"
   ]
  },
  {
   "cell_type": "code",
   "execution_count": 21,
   "id": "1cfa8283",
   "metadata": {},
   "outputs": [
    {
     "name": "stdout",
     "output_type": "stream",
     "text": [
      "Enter a number:35\n",
      "35 is divisible by 5 or 7\n"
     ]
    }
   ],
   "source": [
    "n = int(input('Enter a number:'))\n",
    "if n%5 == 0 or n%7==0:\n",
    "    print(n,'is divisible by 5 or 7')\n",
    "else:\n",
    "    print(n,'is not divisible by 5 or 7')"
   ]
  },
  {
   "cell_type": "markdown",
   "id": "2fcffa2e",
   "metadata": {},
   "source": [
    "### To check number is even or odd"
   ]
  },
  {
   "cell_type": "code",
   "execution_count": 35,
   "id": "644fc57b",
   "metadata": {},
   "outputs": [
    {
     "name": "stdout",
     "output_type": "stream",
     "text": [
      "Enter a number:10\n",
      "10 is an even number\n"
     ]
    }
   ],
   "source": [
    "n = int(input('Enter a number:'))\n",
    "if n%2==0:\n",
    "    print(n,'is an even number')\n",
    "else:\n",
    "    print(n,'is an odd number')"
   ]
  },
  {
   "cell_type": "markdown",
   "id": "b9858faa",
   "metadata": {},
   "source": [
    "### To check year is leap year or not"
   ]
  },
  {
   "cell_type": "code",
   "execution_count": 34,
   "id": "67400e45",
   "metadata": {},
   "outputs": [
    {
     "name": "stdout",
     "output_type": "stream",
     "text": [
      "Enter a year:2020\n",
      "2020 is a leap year\n"
     ]
    }
   ],
   "source": [
    "n = int(input('Enter a year:'))\n",
    "\n",
    "if len(str(n)) == len('1111'):\n",
    "    if n%4==0:\n",
    "        print(n,'is a leap year')\n",
    "    else:\n",
    "        print(n,'is not a leap year')\n",
    "else:\n",
    "    print('Enter a valid year')"
   ]
  },
  {
   "cell_type": "markdown",
   "id": "d170ae87",
   "metadata": {},
   "source": [
    "### To check character is alphabet or not"
   ]
  },
  {
   "cell_type": "code",
   "execution_count": 39,
   "id": "177ffca5",
   "metadata": {},
   "outputs": [
    {
     "name": "stdout",
     "output_type": "stream",
     "text": [
      "Enter a character:M\n",
      "M is an alphabet\n"
     ]
    }
   ],
   "source": [
    "a = input('Enter a character:')\n",
    "if len(a) == 1:\n",
    "    if a.isalpha():\n",
    "        print(a,'is an alphabet')\n",
    "    else:\n",
    "        print(a,'is not an alphabet')\n",
    "else:\n",
    "    print('Please enter valid character')        "
   ]
  },
  {
   "cell_type": "markdown",
   "id": "6c81ca9e",
   "metadata": {},
   "source": [
    "### to check character is vowel or consonant"
   ]
  },
  {
   "cell_type": "code",
   "execution_count": 49,
   "id": "fe2468b5",
   "metadata": {},
   "outputs": [
    {
     "name": "stdout",
     "output_type": "stream",
     "text": [
      "Enter a character:U\n",
      "U is a vowel\n"
     ]
    }
   ],
   "source": [
    "s = input('Enter a character:')\n",
    "if len(s) == 1:\n",
    "    if s.isalpha():\n",
    "        if s in 'aieouAIEOU':\n",
    "            print(s,'is a vowel')\n",
    "        else:\n",
    "            print(s,'is a consonant')\n",
    "    else:\n",
    "        print('Please enter valid character')\n",
    "else:\n",
    "        print('Please enter valid character')        "
   ]
  },
  {
   "cell_type": "markdown",
   "id": "a4c9b2e1",
   "metadata": {},
   "source": [
    "### To check character is upper case or lower case "
   ]
  },
  {
   "cell_type": "code",
   "execution_count": 56,
   "id": "f90fafb1",
   "metadata": {},
   "outputs": [
    {
     "name": "stdout",
     "output_type": "stream",
     "text": [
      "Enter a character:M\n",
      "M is in a upper case\n"
     ]
    }
   ],
   "source": [
    "s = input('Enter a character:')\n",
    "if len(s) == 1:\n",
    "    if s.isalpha():\n",
    "        if s.isupper():\n",
    "            print(s,'is in a upper case')\n",
    "        else:\n",
    "            print(s,'is in a lower case')\n",
    "    else:\n",
    "        print('Please enter valid character')\n",
    "else:\n",
    "        print('Please enter valid character') "
   ]
  },
  {
   "cell_type": "markdown",
   "id": "ac82281a",
   "metadata": {},
   "source": [
    "### WAPP to count total currency note in given amount"
   ]
  },
  {
   "cell_type": "code",
   "execution_count": 57,
   "id": "5ae8b621",
   "metadata": {},
   "outputs": [
    {
     "name": "stdout",
     "output_type": "stream",
     "text": [
      "Enter a amount which is multiple of 100,500,20002000\n",
      "Enter available notes500\n",
      "You have %d notes 4.0\n"
     ]
    }
   ],
   "source": [
    "avlnotes=[100,500,2000]\n",
    "amount= int(input('Enter a amount which is multiple of 100,500,2000'))\n",
    "notes = int(input('Enter available notes'))\n",
    "if notes in avlnotes:\n",
    "    if notes == 100 and amount % notes == 0:\n",
    "        n = amount/notes\n",
    "        print('You have %d notes',n)\n",
    "    elif notes == 500 and amount % notes == 0:\n",
    "        n = amount / notes\n",
    "        print('You have %d notes',n)\n",
    "    elif notes == 2000 and amount % notes == 0:\n",
    "        n = amount / notes\n",
    "        print('You have %d notes',n)\n",
    "    else:\n",
    "        print('Please enter right details')\n"
   ]
  },
  {
   "cell_type": "markdown",
   "id": "07219017",
   "metadata": {},
   "source": [
    "### WAP to input angles and check the triangle is valid or not"
   ]
  },
  {
   "cell_type": "code",
   "execution_count": 58,
   "id": "8ab3a950",
   "metadata": {},
   "outputs": [
    {
     "name": "stdout",
     "output_type": "stream",
     "text": [
      "Enter 1st angle30\n",
      "Enter 2nd angle30\n",
      "Enter 3rd angle30\n",
      "Triangle is not valid\n"
     ]
    }
   ],
   "source": [
    "a = int(input('Enter 1st angle'))\n",
    "b = int(input('Enter 2nd angle'))\n",
    "c = int(input('Enter 3rd angle'))\n",
    "if a+b+c == 180:\n",
    "    print('Triangle is valid')\n",
    "else:\n",
    "    print('Triangle is not valid')"
   ]
  },
  {
   "cell_type": "markdown",
   "id": "6227b078",
   "metadata": {},
   "source": [
    "### WAPP to input angles and check the triangle Equilateral, Isosceles, Scalene"
   ]
  },
  {
   "cell_type": "code",
   "execution_count": 59,
   "id": "c4cbcf4f",
   "metadata": {},
   "outputs": [
    {
     "name": "stdout",
     "output_type": "stream",
     "text": [
      "Enter 1st angle60\n",
      "Enter 2nd angle60\n",
      "Enter 3rd angle60\n",
      "Triangle is Equilateral Triangle\n"
     ]
    }
   ],
   "source": [
    "a = int(input('Enter 1st angle'))\n",
    "b = int(input('Enter 2nd angle'))\n",
    "c = int(input('Enter 3rd angle'))\n",
    "if a==b==c:\n",
    "    print('Triangle is Equilateral Triangle')\n",
    "elif a==b and a!=c and b!=c:\n",
    "    print('Triangle is Isosceles Triangle')\n",
    "elif a!=b and a!=c and b!=c:\n",
    "    print('Triangle is Scalene Triangle')\n",
    "else:\n",
    "    print('Not a valid triangle')\n",
    "    "
   ]
  },
  {
   "cell_type": "markdown",
   "id": "5bdddaed",
   "metadata": {},
   "source": [
    "### WAPP to calculate profit and loss on the basis of selling price and actual price"
   ]
  },
  {
   "cell_type": "code",
   "execution_count": 60,
   "id": "e2cf3f8e",
   "metadata": {},
   "outputs": [
    {
     "name": "stdout",
     "output_type": "stream",
     "text": [
      "Enter a selling price120\n",
      "Enter a actual price100\n",
      "Profit is: 20\n"
     ]
    }
   ],
   "source": [
    "SP = int(input('Enter a selling price'))\n",
    "AP = int(input('Enter a actual price'))\n",
    "if SP>AP:\n",
    "    profit = SP - AP\n",
    "    print('Profit is:',profit)\n",
    "elif AP>SP:\n",
    "    loss = AP - SP\n",
    "    print('Loss is',loss)\n",
    "else:\n",
    "    print('No profit no loss')"
   ]
  },
  {
   "cell_type": "markdown",
   "id": "8c5607d3",
   "metadata": {},
   "source": [
    "### Enter  five sub marks and calculate percentage and grade"
   ]
  },
  {
   "cell_type": "code",
   "execution_count": 66,
   "id": "987ed54d",
   "metadata": {},
   "outputs": [
    {
     "name": "stdout",
     "output_type": "stream",
     "text": [
      "Enter Physics marks out of 100\n",
      "90\n",
      "Enter Chemistry marks out of 100\n",
      "90\n",
      "Enter Biology marks out of 100\n",
      "90\n",
      "Enter Mathematics marks out of 100\n",
      "90\n",
      "Enter Computer marks out of 100\n",
      "93\n",
      "Percentage is: 90.6 %\n",
      "Grade A+\n"
     ]
    }
   ],
   "source": [
    "phy = int(input('Enter Physics marks out of 100\\n'))\n",
    "chem = int(input('Enter Chemistry marks out of 100\\n'))\n",
    "bio =int(input('Enter Biology marks out of 100\\n'))\n",
    "math = int(input('Enter Mathematics marks out of 100\\n'))\n",
    "comp = int(input('Enter Computer marks out of 100\\n'))\n",
    "\n",
    "scored_marks = phy+chem+bio+math+comp\n",
    "per=(scored_marks/500)*100\n",
    "print('Percentage is:',round(per,2),'%')\n",
    "if per>=90:\n",
    "    print('Grade A+')\n",
    "elif per>=80:\n",
    "    print('Grade A')\n",
    "elif per>=70:\n",
    "    print('Grade B')\n",
    "elif per>=60:\n",
    "    print('Grade C')\n",
    "elif per>=50:\n",
    "    print('Grade D')\n",
    "elif per>=40:\n",
    "    print('Grade E')\n",
    "else:\n",
    "    print('Sorry you have failed better luck next time')        \n",
    "           \n",
    "       "
   ]
  },
  {
   "cell_type": "markdown",
   "id": "f3933a0a",
   "metadata": {},
   "source": [
    "### To enter employee basic salary and calculate gross salary\n",
    "BS <=10000: HRA = 20% DA = 80%\n",
    "BS <=20000: HRA = 30% DA = 90%\n",
    "BS >20000: HRA = 35% DA = 95%"
   ]
  },
  {
   "cell_type": "code",
   "execution_count": 69,
   "id": "64a2885e",
   "metadata": {},
   "outputs": [
    {
     "name": "stdout",
     "output_type": "stream",
     "text": [
      "Enter Basic Salary:25000\n",
      "Gross Salary is: 57500.0\n"
     ]
    }
   ],
   "source": [
    "bas_sal = int(input('Enter Basic Salary:'))\n",
    "if bas_sal <=10000:\n",
    "    gross_sal = bas_sal+(bas_sal*0.20)+(bas_sal*0.80) \n",
    "    print('Gross Salary is:',gross_sal)\n",
    "elif bas_sal <=20000:\n",
    "    gross_sal = bas_sal+(bas_sal*0.30)+(bas_sal*0.90) \n",
    "    print('Gross Salary is:',gross_sal)\n",
    "elif bas_sal>20000:\n",
    "    gross_sal = bas_sal+(bas_sal*0.35)+(bas_sal*0.95) \n",
    "    print('Gross Salary is:',gross_sal)\n",
    "else:\n",
    "    print('Valid data')\n",
    "    \n",
    "    "
   ]
  },
  {
   "cell_type": "markdown",
   "id": "b1a76df3",
   "metadata": {},
   "source": [
    "### To input electricity unit charges and calculate total electricity bill"
   ]
  },
  {
   "cell_type": "code",
   "execution_count": 74,
   "id": "87efcb31",
   "metadata": {},
   "outputs": [
    {
     "name": "stdout",
     "output_type": "stream",
     "text": [
      "Enter unit:150\n",
      "Charges: 117.0\n"
     ]
    }
   ],
   "source": [
    "unit = int(input('Enter unit:'))\n",
    "if unit<=50:\n",
    "    charges = unit * 0.50\n",
    "    print('Charges:',charges*1.17)\n",
    "elif unit>50 and unit<=150:\n",
    "    a = 50*0.50\n",
    "    b = (unit-50)*0.75\n",
    "    charges = a+b\n",
    "    print('Charges:',charges*1.17)\n",
    "elif unit>150 and unit<=250:\n",
    "    a = 50*0.50\n",
    "    b = 100*0.75\n",
    "    c = (unit-150)*1.25\n",
    "    charges = a+b+c\n",
    "    print('Charges:',charges*1.17)\n",
    "elif unit>250:\n",
    "    a = 50*0.50\n",
    "    b = 100*0.75\n",
    "    c = 100*1.25\n",
    "    d = (unit-250)*1.50\n",
    "    charges = a+b+c+d\n",
    "    print('Charges:',charges*1.17)\n",
    "else:\n",
    "    print('Please enter correct unit')\n",
    "    \n",
    "    \n",
    "        \n",
    "    "
   ]
  },
  {
   "cell_type": "code",
   "execution_count": null,
   "id": "4f3c3897",
   "metadata": {},
   "outputs": [],
   "source": []
  }
 ],
 "metadata": {
  "kernelspec": {
   "display_name": "Python 3 (ipykernel)",
   "language": "python",
   "name": "python3"
  },
  "language_info": {
   "codemirror_mode": {
    "name": "ipython",
    "version": 3
   },
   "file_extension": ".py",
   "mimetype": "text/x-python",
   "name": "python",
   "nbconvert_exporter": "python",
   "pygments_lexer": "ipython3",
   "version": "3.9.12"
  }
 },
 "nbformat": 4,
 "nbformat_minor": 5
}
